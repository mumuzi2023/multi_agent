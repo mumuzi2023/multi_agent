{
 "cells": [
  {
   "cell_type": "markdown",
   "id": "127fabbf-4300-4813-851b-9a70ee9677b1",
   "metadata": {},
   "source": [
    "According to [this issue](https://github.com/pygame/pygame/issues/3405#issuecomment-1221266709), before we run this notebook, we need to force an environment variable to avoid the following error:\n",
    "\n",
    "```\n",
    "libGL error: MESA-LOADER: failed to open swrast: /usr/lib/dri/swrast_dri.so: cannot open shared object file: No such file or directory (search paths /usr/lib/x86_64-linux-gnu/dri:\\$${ORIGIN}/dri:/usr/lib/dri, suffix _dri)\n",
    "libGL error: failed to load driver: swrast\n",
    "X Error of failed request:  BadValue (integer parameter out of range for operation)\n",
    "  Major opcode of failed request:  148 (GLX)\n",
    "  Minor opcode of failed request:  3 (X_GLXCreateContext)\n",
    "  Value in failed request:  0x0\n",
    "  Serial number of failed request:  158\n",
    "  Current serial number in output stream:  159\n",
    "```"
   ]
  },
  {
   "cell_type": "markdown",
   "id": "5c286267-3919-4596-838c-3c9e50cd9764",
   "metadata": {},
   "source": [
    "`export LD_PRELOAD=/usr/lib/x86_64-linux-gnu/libstdc++.so.6`"
   ]
  },
  {
   "cell_type": "markdown",
   "id": "57c14519-2668-41a6-92a0-ddced291999c",
   "metadata": {},
   "source": [
    "If we do not want to run in the render mode, simply remove the `render_mode` setting during the environment creation."
   ]
  },
  {
   "cell_type": "code",
   "execution_count": 1,
   "id": "6a8db935-98ae-408f-8c13-77c65856bbf4",
   "metadata": {},
   "outputs": [],
   "source": [
    "from pettingzoo.atari import space_invaders_v2"
   ]
  },
  {
   "cell_type": "code",
   "execution_count": 2,
   "id": "98d2b87c-72c4-4de8-8931-21a812dca6ea",
   "metadata": {},
   "outputs": [],
   "source": [
    "env = space_invaders_v2.env(render_mode=\"human\")\n",
    "env.reset(seed=42)"
   ]
  },
  {
   "cell_type": "code",
   "execution_count": null,
   "id": "a3c703c7-5753-410d-b429-9d106fce069f",
   "metadata": {},
   "outputs": [],
   "source": [
    "for agent in env.agent_iter():\n",
    "    observation, reward, termination, truncation, info = env.last()\n",
    "\n",
    "    if termination or truncation:\n",
    "        action = None\n",
    "    else:\n",
    "        action = env.action_space(agent).sample() # this is where you would insert your policy\n",
    "\n",
    "    env.step(action)"
   ]
  },
  {
   "cell_type": "code",
   "execution_count": null,
   "id": "9920df1f-0401-40f4-9ab2-681fed4058b6",
   "metadata": {},
   "outputs": [],
   "source": [
    "env.close()"
   ]
  }
 ],
 "metadata": {
  "kernelspec": {
   "display_name": "AMAS",
   "language": "python",
   "name": "amas"
  },
  "language_info": {
   "codemirror_mode": {
    "name": "ipython",
    "version": 3
   },
   "file_extension": ".py",
   "mimetype": "text/x-python",
   "name": "python",
   "nbconvert_exporter": "python",
   "pygments_lexer": "ipython3",
   "version": "3.11.11"
  }
 },
 "nbformat": 4,
 "nbformat_minor": 5
}
